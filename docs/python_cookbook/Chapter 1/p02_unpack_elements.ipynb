{
 "cells": [
  {
   "cell_type": "code",
   "execution_count": 11,
   "metadata": {},
   "outputs": [
    {
     "name": "stdout",
     "output_type": "stream",
     "text": [
      "Dave dave@example.com ['773-555-1212', '847-555-1212']\n"
     ]
    },
    {
     "data": {
      "text/plain": [
       "'dave@example.com'"
      ]
     },
     "execution_count": 11,
     "metadata": {},
     "output_type": "execute_result"
    }
   ],
   "source": [
    "record = ('Dave', 'dave@example.com', '773-555-1212', '847-555-1212')\n",
    "name, email, *phone_numbers = record\n",
    "print(name, email, phone_numbers)"
   ]
  },
  {
   "cell_type": "code",
   "execution_count": 13,
   "metadata": {},
   "outputs": [
    {
     "name": "stdout",
     "output_type": "stream",
     "text": [
      "foo 1 2\n",
      "bar hello\n",
      "foo 3 4\n"
     ]
    }
   ],
   "source": [
    "records = [\n",
    "    ('foo', 1, 2),\n",
    "    ('bar', 'hello'),\n",
    "    ('foo', 3, 4),\n",
    "]\n",
    "\n",
    "def do_foo(x, y):\n",
    "    print('foo', x, y)\n",
    "\n",
    "def do_bar(s):\n",
    "    print('bar', s)\n",
    "\n",
    "for tag, *arg in records:\n",
    "    if tag == 'foo':\n",
    "        do_foo(*arg)\n",
    "    elif tag == 'bar':\n",
    "        do_bar(*arg)"
   ]
  },
  {
   "cell_type": "markdown",
   "metadata": {},
   "source": [
    "星号解压语法在字符串操作的时候也会很有用，比如字符串的分割。"
   ]
  },
  {
   "cell_type": "code",
   "execution_count": 18,
   "metadata": {},
   "outputs": [
    {
     "name": "stdout",
     "output_type": "stream",
     "text": [
      "nobody /var/empty /usr/bin/false\n"
     ]
    }
   ],
   "source": [
    "line = 'nobody:*:-2:-2:Unpri:vileged User:/var/empty:/usr/bin/false'\n",
    "uname, *field, homedir, sh = line.split(':')\n",
    "print(uname, homedir, sh)"
   ]
  },
  {
   "cell_type": "markdown",
   "metadata": {},
   "source": [
    "有时候，你想解压一些元素后丢弃它们，你不能简单就使用 * ， 但是你可以使用一个普通的废弃名称，比如 _ 或者 ign （ignore）。"
   ]
  },
  {
   "cell_type": "code",
   "execution_count": 19,
   "metadata": {},
   "outputs": [
    {
     "name": "stdout",
     "output_type": "stream",
     "text": [
      "ACME 2012\n"
     ]
    }
   ],
   "source": [
    "record = ('ACME', 50, 123.45, (12, 18, 2012))\n",
    "name, *_, (*_, year) = record\n",
    "print(name, year)"
   ]
  },
  {
   "cell_type": "markdown",
   "metadata": {},
   "source": [
    "在很多函数式语言中，星号解压语法跟列表处理有许多相似之处。比如，如果你有一个列表， 你可以很容易的将它分割成前后两部分："
   ]
  },
  {
   "cell_type": "code",
   "execution_count": 20,
   "metadata": {},
   "outputs": [
    {
     "name": "stdout",
     "output_type": "stream",
     "text": [
      "1 [10, 7, 4, 5, 9]\n"
     ]
    }
   ],
   "source": [
    "items = [1, 10, 7, 4, 5, 9]\n",
    "head, *tail = items\n",
    "print(head, tail)"
   ]
  },
  {
   "cell_type": "markdown",
   "metadata": {},
   "source": [
    "如果你够聪明的话，还能用这种分割语法去巧妙的实现递归算法。比如："
   ]
  },
  {
   "cell_type": "code",
   "execution_count": 27,
   "metadata": {},
   "outputs": [
    {
     "data": {
      "text/plain": [
       "46"
      ]
     },
     "execution_count": 27,
     "metadata": {},
     "output_type": "execute_result"
    }
   ],
   "source": [
    "def sum(items):\n",
    "    head, *tail = items\n",
    "    return head + sum(tail) if tail else head\n",
    "\n",
    "item = [1, 10, 7, 4, 5, 9, 10]\n",
    "\n",
    "sum(item)"
   ]
  }
 ],
 "metadata": {
  "kernelspec": {
   "display_name": "Python 3",
   "language": "python",
   "name": "python3"
  },
  "language_info": {
   "codemirror_mode": {
    "name": "ipython",
    "version": 3
   },
   "file_extension": ".py",
   "mimetype": "text/x-python",
   "name": "python",
   "nbconvert_exporter": "python",
   "pygments_lexer": "ipython3",
   "version": "3.7.17"
  }
 },
 "nbformat": 4,
 "nbformat_minor": 2
}
